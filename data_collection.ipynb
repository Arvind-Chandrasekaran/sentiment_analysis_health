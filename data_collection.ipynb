{
 "cells": [
  {
   "cell_type": "code",
   "execution_count": 2,
   "metadata": {},
   "outputs": [],
   "source": [
    "import os\n",
    "from dotenv import load_dotenv"
   ]
  },
  {
   "cell_type": "code",
   "execution_count": null,
   "metadata": {},
   "outputs": [
    {
     "name": "stdout",
     "output_type": "stream",
     "text": [
      "Client ID: your_client_id\n",
      "Client Secret: your_client_secret\n",
      "\n",
      "\n",
      "data_collection\n"
     ]
    }
   ],
   "source": [
    "load_dotenv() #load environment variables \n",
    "\n",
    "client_id = os.getenv(\"REDDIT_CLIENT_ID\")\n",
    "client_secret = os.getenv(\"REDDIT_CLIENT_SECRET\")\n",
    "client_app = os.getenv(\"REDDIT_APP_NAME\")\n",
    "client_username = os.getenv(\"REDDIT_USER_NAME\")\n",
    "client_password = os.getenv(\"REDDIT_PASS_WORD\")\n",
    "\n",
    "print(f\"Client ID: {client_id}\")\n",
    "print(f\"Client Secret: {client_secret}\")\n",
    "print(client_username)\n",
    "print(client_password)\n",
    "print(client_app)\n",
    "\n"
   ]
  }
 ],
 "metadata": {
  "kernelspec": {
   "display_name": "Python 3",
   "language": "python",
   "name": "python3"
  },
  "language_info": {
   "codemirror_mode": {
    "name": "ipython",
    "version": 3
   },
   "file_extension": ".py",
   "mimetype": "text/x-python",
   "name": "python",
   "nbconvert_exporter": "python",
   "pygments_lexer": "ipython3",
   "version": "3.11.3"
  }
 },
 "nbformat": 4,
 "nbformat_minor": 2
}
