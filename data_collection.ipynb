{
 "cells": [
  {
   "cell_type": "code",
   "execution_count": 1,
   "metadata": {},
   "outputs": [],
   "source": [
    "import os\n",
    "from dotenv import load_dotenv\n",
    "import praw\n",
    "import json\n",
    "import pandas as pd\n",
    "import matplotlib.pyplot as plt"
   ]
  },
  {
   "cell_type": "code",
   "execution_count": 2,
   "metadata": {},
   "outputs": [],
   "source": [
    "load_dotenv() # Load environment variables \n",
    "\n",
    "reddit_client_id = os.getenv(\"REDDIT_CLIENT_ID\")\n",
    "reddit_client_secret = os.getenv(\"REDDIT_CLIENT_SECRET\")\n",
    "reddit_user_agent = os.getenv(\"REDDIT_APP_NAME\")\n",
    "reddit_client_username = os.getenv(\"REDDIT_USER_NAME\")\n",
    "reddit_client_password = os.getenv(\"REDDIT_PASS_WORD\")\n"
   ]
  },
  {
   "cell_type": "code",
   "execution_count": 3,
   "metadata": {},
   "outputs": [],
   "source": [
    "reddit = praw.Reddit(client_id=reddit_client_id,\n",
    "                     client_secret=reddit_client_secret,\n",
    "                     user_agent=reddit_user_agent)"
   ]
  },
  {
   "cell_type": "code",
   "execution_count": 5,
   "metadata": {},
   "outputs": [],
   "source": [
    "# Vaccine & Immunization Keywords\n",
    "vaccine_keywords = [\n",
    "    \"vaccine\", \"vaccination\", \"immunization\", \"booster\",\n",
    "    \"vaccine safety\", \"vaccine efficacy\", \"jab\", \"shot\",\"pro-vax\",\"anti-vax\",\"vaccine hesitancy\"\n",
    "]\n",
    "\n",
    "# Mask & Face Covering Keywords\n",
    "mask_keywords = [\n",
    "    \"mask\", \"face mask\", \"face covering\", \"N95\", \"surgical mask\",\n",
    "    \"cloth mask\", \"mask mandate\"\n",
    "]\n",
    "\n",
    "# Public Health & Safety Keywords\n",
    "public_health_keywords = [\n",
    "    \"public health\", \"health safety\", \"pandemic\", \"outbreak\", \"community health\",\n",
    "    \"virus\", \"COVID-19\", \"prevention\", \"social distancing\", \"flatten the curve\"\n",
    "]\n",
    "\n",
    "keywords = vaccine_keywords + mask_keywords + public_health_keywords\n"
   ]
  },
  {
   "cell_type": "code",
   "execution_count": null,
   "metadata": {},
   "outputs": [],
   "source": [
    "subreddit = reddit.subreddit('all')\n",
    "\n",
    "\n",
    "posts_data = []\n",
    "\n",
    "\n",
    "for keyword in keywords:\n",
    "    for submission in subreddit.search(keyword, limit=10):  # 10 post per keyword\n",
    "        post_info = {\n",
    "            'id': submission.id,\n",
    "            'title': submission.title,\n",
    "            'selftext': submission.selftext,\n",
    "            'url': submission.url,\n",
    "            'created': submission.created_utc,\n",
    "            'comments': []\n",
    "        }\n",
    "        \n",
    "        submission.comments.replace_more(limit=0)\n",
    "        for comment in submission.comments.list():\n",
    "            post_info['comments'].append({\n",
    "                'id': comment.id,\n",
    "                'body': comment.body,\n",
    "                'created': comment.created_utc\n",
    "            })\n",
    "        posts_data.append(post_info)\n",
    "\n",
    "with open('reddit_data.json', 'w', encoding='utf-8') as f:\n",
    "    json.dump(posts_data, f, ensure_ascii=False, indent=4)"
   ]
  },
  {
   "cell_type": "code",
   "execution_count": 50,
   "metadata": {},
   "outputs": [
    {
     "name": "stdout",
     "output_type": "stream",
     "text": [
      "Total posts related public health in 2024-25 based on the chosen key words:  186\n",
      "Number of empty selftext posts (non textual media shared): 97\n",
      "Total posts related public health in 2024-25 based on the chosen key words (after removing other forms of media):  89\n",
      "Date with maximum posts: 2025-03 with 27 posts.\n",
      "Date with maximum posts: 2025-03-26 00:00:00 with 4 posts.\n"
     ]
    },
    {
     "data": {
      "image/png": "[encoded data removed]",
      "text/plain": [
       "<Figure size 1000x500 with 1 Axes>"
      ]
     },
     "metadata": {},
     "output_type": "display_data"
    }
   ],
   "source": [
    "with open('reddit_data.json', 'r', encoding='utf-8') as f:\n",
    "    data = json.load(f)\n",
    "    \n",
    "df = pd.DataFrame(data)\n",
    "\n",
    "df['created'] = pd.to_datetime(df['created'], unit='s')\n",
    "\n",
    "df.set_index('created', inplace=True) # Make date index\n",
    "\n",
    "df = df[(df.index.year == 2024) | (df.index.year == 2025)]\n",
    "print(\"Total posts related public health in 2024-25 based on the chosen key words: \",len(df)) # Post Count\n",
    "\n",
    "print(\"Number of empty selftext posts (non textual media shared):\",(df['selftext'] == '').sum())\n",
    "df = df[df['selftext'] != '']\n",
    "print(\"Total posts related public health in 2024-25 based on the chosen key words (after removing other forms of media): \",len(df)) # Post Count\n",
    "\n",
    "\n",
    "monthly_posts = df.resample('ME').size() # Daily posts\n",
    "monthly_posts.index = monthly_posts.index.strftime('%Y-%m')  #Converting year-nmoth format\n",
    "max_date = monthly_posts.idxmax()  # This returns the date with the highest post count\n",
    "max_count = monthly_posts[max_date]  # This returns the count at that date\n",
    "print(\"Date with maximum posts:\", max_date, \"with\", max_count, \"posts.\")\n",
    "\n",
    "\n",
    "daily_posts = df.resample('D').size() # Daily posts\n",
    "max_date = daily_posts.idxmax()\n",
    "max_count = daily_posts[max_date]\n",
    "print(\"Date with maximum posts:\", max_date, \"with\", max_count, \"posts.\")\n",
    "\n",
    "\n",
    "\n",
    "plt.figure(figsize=(10, 5))\n",
    "plt.bar(daily_posts.index, daily_posts.values)\n",
    "plt.title('Reddit Posts per Day')\n",
    "plt.xlabel('Date')\n",
    "plt.ylabel('Count')\n",
    "plt.xticks(rotation=45)\n",
    "plt.tight_layout()\n",
    "plt.show()"
   ]
  }
 ],
 "metadata": {
  "kernelspec": {
   "display_name": "venv",
   "language": "python",
   "name": "python3"
  },
  "language_info": {
   "codemirror_mode": {
    "name": "ipython",
    "version": 3
   },
   "file_extension": ".py",
   "mimetype": "text/x-python",
   "name": "python",
   "nbconvert_exporter": "python",
   "pygments_lexer": "ipython3",
   "version": "3.11.3"
  }
 },
 "nbformat": 4,
 "nbformat_minor": 2
}
