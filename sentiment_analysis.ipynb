{
 "cells": [
  {
   "cell_type": "code",
   "execution_count": 2,
   "metadata": {},
   "outputs": [],
   "source": [
    "import pandas as pd\n",
    "import json"
   ]
  },
  {
   "cell_type": "code",
   "execution_count": null,
   "metadata": {},
   "outputs": [],
   "source": [
    "with open('reddit_data.json', 'r', encoding='utf-8') as f:\n",
    "    data = json.load(f)\n",
    "    \n",
    "df = pd.DataFrame(data)\n",
    "\n",
    "df['created'] = pd.to_datetime(df['created'], unit='s')\n",
    "\n",
    "df.set_index('created', inplace=True) # Make date index\n",
    "\n",
    "df = df[(df.index.year == 2024) | (df.index.year == 2025)]\n",
    "df = df[df['selftext'] != '']\n",
    "\n",
    "df_posts = df[['id', 'selftext']].copy()\n",
    "\n",
    "# Step 2: Add an empty column for manual labels\n",
    "df_posts['manual_label'] = ''\n",
    "\n",
    "# Step 3: Save the DataFrame to a CSV file\n",
    "df_posts.to_csv('posts_to_label.csv', index=False)"
   ]
  }
 ],
 "metadata": {
  "kernelspec": {
   "display_name": "Python (venv)",
   "language": "python",
   "name": "venv"
  },
  "language_info": {
   "codemirror_mode": {
    "name": "ipython",
    "version": 3
   },
   "file_extension": ".py",
   "mimetype": "text/x-python",
   "name": "python",
   "nbconvert_exporter": "python",
   "pygments_lexer": "ipython3",
   "version": "3.11.3"
  }
 },
 "nbformat": 4,
 "nbformat_minor": 2
}
